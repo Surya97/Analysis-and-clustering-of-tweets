{
 "cells": [
  {
   "cell_type": "code",
   "execution_count": 3,
   "metadata": {
    "collapsed": true
   },
   "outputs": [],
   "source": [
    "import numpy as np\n",
    "import pandas as pd"
   ]
  },
  {
   "cell_type": "code",
   "execution_count": 4,
   "metadata": {
    "collapsed": false
   },
   "outputs": [],
   "source": [
    "df = pd.read_csv('tweets_dataframe.csv', sep=\"\\t\")"
   ]
  },
  {
   "cell_type": "code",
   "execution_count": 5,
   "metadata": {
    "collapsed": false
   },
   "outputs": [
    {
     "data": {
      "text/html": [
       "<div>\n",
       "<table border=\"1\" class=\"dataframe\">\n",
       "  <thead>\n",
       "    <tr style=\"text-align: right;\">\n",
       "      <th></th>\n",
       "      <th>id</th>\n",
       "      <th>text</th>\n",
       "      <th>user.favourites_count</th>\n",
       "      <th>user.id</th>\n",
       "      <th>lang</th>\n",
       "      <th>user.followers_count</th>\n",
       "      <th>user.verified</th>\n",
       "      <th>truncated</th>\n",
       "    </tr>\n",
       "  </thead>\n",
       "  <tbody>\n",
       "    <tr>\n",
       "      <th>0</th>\n",
       "      <td>593891099548094465</td>\n",
       "      <td>VIDEO: Sturgeon on post-election deals http://...</td>\n",
       "      <td>0.0</td>\n",
       "      <td>557422508</td>\n",
       "      <td>en</td>\n",
       "      <td>184</td>\n",
       "      <td>False</td>\n",
       "      <td>False</td>\n",
       "    </tr>\n",
       "    <tr>\n",
       "      <th>1</th>\n",
       "      <td>593891101313896449</td>\n",
       "      <td>LOLZ to Trickle Down Wealth. It's never trickl...</td>\n",
       "      <td>2677.0</td>\n",
       "      <td>2471552766</td>\n",
       "      <td>en</td>\n",
       "      <td>966</td>\n",
       "      <td>False</td>\n",
       "      <td>False</td>\n",
       "    </tr>\n",
       "    <tr>\n",
       "      <th>2</th>\n",
       "      <td>593891101766918144</td>\n",
       "      <td>SNP leader faces audience questions http://t.c...</td>\n",
       "      <td>0.0</td>\n",
       "      <td>557422508</td>\n",
       "      <td>en</td>\n",
       "      <td>184</td>\n",
       "      <td>False</td>\n",
       "      <td>False</td>\n",
       "    </tr>\n",
       "    <tr>\n",
       "      <th>3</th>\n",
       "      <td>593891102480007169</td>\n",
       "      <td>If Miliband is refusing to do any deal with th...</td>\n",
       "      <td>492.0</td>\n",
       "      <td>390331913</td>\n",
       "      <td>en</td>\n",
       "      <td>174</td>\n",
       "      <td>False</td>\n",
       "      <td>False</td>\n",
       "    </tr>\n",
       "    <tr>\n",
       "      <th>4</th>\n",
       "      <td>593891103184551936</td>\n",
       "      <td>Cameron wins last TV contest of election campa...</td>\n",
       "      <td>4.0</td>\n",
       "      <td>2724103423</td>\n",
       "      <td>en</td>\n",
       "      <td>102</td>\n",
       "      <td>False</td>\n",
       "      <td>False</td>\n",
       "    </tr>\n",
       "  </tbody>\n",
       "</table>\n",
       "</div>"
      ],
      "text/plain": [
       "                   id                                               text  \\\n",
       "0  593891099548094465  VIDEO: Sturgeon on post-election deals http://...   \n",
       "1  593891101313896449  LOLZ to Trickle Down Wealth. It's never trickl...   \n",
       "2  593891101766918144  SNP leader faces audience questions http://t.c...   \n",
       "3  593891102480007169  If Miliband is refusing to do any deal with th...   \n",
       "4  593891103184551936  Cameron wins last TV contest of election campa...   \n",
       "\n",
       "   user.favourites_count     user.id lang user.followers_count user.verified  \\\n",
       "0                    0.0   557422508   en                  184         False   \n",
       "1                 2677.0  2471552766   en                  966         False   \n",
       "2                    0.0   557422508   en                  184         False   \n",
       "3                  492.0   390331913   en                  174         False   \n",
       "4                    4.0  2724103423   en                  102         False   \n",
       "\n",
       "  truncated  \n",
       "0     False  \n",
       "1     False  \n",
       "2     False  \n",
       "3     False  \n",
       "4     False  "
      ]
     },
     "execution_count": 5,
     "metadata": {},
     "output_type": "execute_result"
    }
   ],
   "source": [
    "df.head()"
   ]
  },
  {
   "cell_type": "code",
   "execution_count": 6,
   "metadata": {
    "collapsed": false
   },
   "outputs": [
    {
     "name": "stdout",
     "output_type": "stream",
     "text": [
      "6612\n"
     ]
    }
   ],
   "source": [
    "rows=len(df.index)\n",
    "print rows"
   ]
  },
  {
   "cell_type": "code",
   "execution_count": 7,
   "metadata": {
    "collapsed": false
   },
   "outputs": [
    {
     "data": {
      "text/plain": [
       "(6612, 8)"
      ]
     },
     "execution_count": 7,
     "metadata": {},
     "output_type": "execute_result"
    }
   ],
   "source": [
    "df.shape"
   ]
  },
  {
   "cell_type": "code",
   "execution_count": 8,
   "metadata": {
    "collapsed": true
   },
   "outputs": [],
   "source": [
    "import re as reg"
   ]
  },
  {
   "cell_type": "code",
   "execution_count": 9,
   "metadata": {
    "collapsed": false
   },
   "outputs": [],
   "source": [
    "#remove @.*:\n",
    "# regex @\\w+[\" \",:] \" \" for tweets with only @... \n",
    "for i in xrange(rows):\n",
    "    tweet=str(df.loc[i]['text'])\n",
    "    remove=reg.compile(r'@\\w+[\" \",:]')\n",
    "    remove_words=remove.findall(tweet)\n",
    "    new_tweet=\"\"\n",
    "    for word in tweet.split():\n",
    "        if word not in remove_words:\n",
    "            new_tweet+=word+' '\n",
    "    df.replace(df.loc[i]['text'], new_tweet, inplace=True)\n",
    "        "
   ]
  },
  {
   "cell_type": "code",
   "execution_count": 10,
   "metadata": {
    "collapsed": false
   },
   "outputs": [
    {
     "data": {
      "text/html": [
       "<div>\n",
       "<table border=\"1\" class=\"dataframe\">\n",
       "  <thead>\n",
       "    <tr style=\"text-align: right;\">\n",
       "      <th></th>\n",
       "      <th>id</th>\n",
       "      <th>text</th>\n",
       "      <th>user.favourites_count</th>\n",
       "      <th>user.id</th>\n",
       "      <th>lang</th>\n",
       "      <th>user.followers_count</th>\n",
       "      <th>user.verified</th>\n",
       "      <th>truncated</th>\n",
       "    </tr>\n",
       "  </thead>\n",
       "  <tbody>\n",
       "    <tr>\n",
       "      <th>0</th>\n",
       "      <td>593891099548094465</td>\n",
       "      <td>VIDEO: Sturgeon on post-election deals http://...</td>\n",
       "      <td>0</td>\n",
       "      <td>557422508</td>\n",
       "      <td>en</td>\n",
       "      <td>184</td>\n",
       "      <td>False</td>\n",
       "      <td>False</td>\n",
       "    </tr>\n",
       "    <tr>\n",
       "      <th>1</th>\n",
       "      <td>593891101313896449</td>\n",
       "      <td>LOLZ to Trickle Down Wealth. It's never trickl...</td>\n",
       "      <td>2677</td>\n",
       "      <td>2471552766</td>\n",
       "      <td>en</td>\n",
       "      <td>966</td>\n",
       "      <td>False</td>\n",
       "      <td>False</td>\n",
       "    </tr>\n",
       "    <tr>\n",
       "      <th>2</th>\n",
       "      <td>593891101766918144</td>\n",
       "      <td>SNP leader faces audience questions http://t.c...</td>\n",
       "      <td>0</td>\n",
       "      <td>557422508</td>\n",
       "      <td>en</td>\n",
       "      <td>184</td>\n",
       "      <td>False</td>\n",
       "      <td>False</td>\n",
       "    </tr>\n",
       "    <tr>\n",
       "      <th>3</th>\n",
       "      <td>593891102480007169</td>\n",
       "      <td>If Miliband is refusing to do any deal with th...</td>\n",
       "      <td>492</td>\n",
       "      <td>390331913</td>\n",
       "      <td>en</td>\n",
       "      <td>174</td>\n",
       "      <td>False</td>\n",
       "      <td>False</td>\n",
       "    </tr>\n",
       "    <tr>\n",
       "      <th>4</th>\n",
       "      <td>593891103184551936</td>\n",
       "      <td>Cameron wins last TV contest of election campa...</td>\n",
       "      <td>4</td>\n",
       "      <td>2724103423</td>\n",
       "      <td>en</td>\n",
       "      <td>102</td>\n",
       "      <td>False</td>\n",
       "      <td>False</td>\n",
       "    </tr>\n",
       "  </tbody>\n",
       "</table>\n",
       "</div>"
      ],
      "text/plain": [
       "                   id                                               text  \\\n",
       "0  593891099548094465  VIDEO: Sturgeon on post-election deals http://...   \n",
       "1  593891101313896449  LOLZ to Trickle Down Wealth. It's never trickl...   \n",
       "2  593891101766918144  SNP leader faces audience questions http://t.c...   \n",
       "3  593891102480007169  If Miliband is refusing to do any deal with th...   \n",
       "4  593891103184551936  Cameron wins last TV contest of election campa...   \n",
       "\n",
       "  user.favourites_count     user.id lang user.followers_count user.verified  \\\n",
       "0                     0   557422508   en                  184         False   \n",
       "1                  2677  2471552766   en                  966         False   \n",
       "2                     0   557422508   en                  184         False   \n",
       "3                   492   390331913   en                  174         False   \n",
       "4                     4  2724103423   en                  102         False   \n",
       "\n",
       "  truncated  \n",
       "0     False  \n",
       "1     False  \n",
       "2     False  \n",
       "3     False  \n",
       "4     False  "
      ]
     },
     "execution_count": 10,
     "metadata": {},
     "output_type": "execute_result"
    }
   ],
   "source": [
    "df.head()"
   ]
  },
  {
   "cell_type": "code",
   "execution_count": 12,
   "metadata": {
    "collapsed": false
   },
   "outputs": [],
   "source": [
    "# make all tweets into lower case\n",
    "for i in xrange(rows):\n",
    "    tweet=str(df.loc[i]['text']).lower()\n",
    "    df.replace(df.loc[i]['text'], tweet, inplace=True)\n",
    "    "
   ]
  },
  {
   "cell_type": "code",
   "execution_count": 13,
   "metadata": {
    "collapsed": false
   },
   "outputs": [
    {
     "data": {
      "text/html": [
       "<div>\n",
       "<table border=\"1\" class=\"dataframe\">\n",
       "  <thead>\n",
       "    <tr style=\"text-align: right;\">\n",
       "      <th></th>\n",
       "      <th>id</th>\n",
       "      <th>text</th>\n",
       "      <th>user.favourites_count</th>\n",
       "      <th>user.id</th>\n",
       "      <th>lang</th>\n",
       "      <th>user.followers_count</th>\n",
       "      <th>user.verified</th>\n",
       "      <th>truncated</th>\n",
       "    </tr>\n",
       "  </thead>\n",
       "  <tbody>\n",
       "    <tr>\n",
       "      <th>0</th>\n",
       "      <td>593891099548094465</td>\n",
       "      <td>video: sturgeon on post-election deals http://...</td>\n",
       "      <td>0</td>\n",
       "      <td>557422508</td>\n",
       "      <td>en</td>\n",
       "      <td>184</td>\n",
       "      <td>False</td>\n",
       "      <td>False</td>\n",
       "    </tr>\n",
       "    <tr>\n",
       "      <th>1</th>\n",
       "      <td>593891101313896449</td>\n",
       "      <td>lolz to trickle down wealth. it's never trickl...</td>\n",
       "      <td>2677</td>\n",
       "      <td>2471552766</td>\n",
       "      <td>en</td>\n",
       "      <td>966</td>\n",
       "      <td>False</td>\n",
       "      <td>False</td>\n",
       "    </tr>\n",
       "    <tr>\n",
       "      <th>2</th>\n",
       "      <td>593891101766918144</td>\n",
       "      <td>snp leader faces audience questions http://t.c...</td>\n",
       "      <td>0</td>\n",
       "      <td>557422508</td>\n",
       "      <td>en</td>\n",
       "      <td>184</td>\n",
       "      <td>False</td>\n",
       "      <td>False</td>\n",
       "    </tr>\n",
       "    <tr>\n",
       "      <th>3</th>\n",
       "      <td>593891102480007169</td>\n",
       "      <td>if miliband is refusing to do any deal with th...</td>\n",
       "      <td>492</td>\n",
       "      <td>390331913</td>\n",
       "      <td>en</td>\n",
       "      <td>174</td>\n",
       "      <td>False</td>\n",
       "      <td>False</td>\n",
       "    </tr>\n",
       "    <tr>\n",
       "      <th>4</th>\n",
       "      <td>593891103184551936</td>\n",
       "      <td>cameron wins last tv contest of election campa...</td>\n",
       "      <td>4</td>\n",
       "      <td>2724103423</td>\n",
       "      <td>en</td>\n",
       "      <td>102</td>\n",
       "      <td>False</td>\n",
       "      <td>False</td>\n",
       "    </tr>\n",
       "  </tbody>\n",
       "</table>\n",
       "</div>"
      ],
      "text/plain": [
       "                   id                                               text  \\\n",
       "0  593891099548094465  video: sturgeon on post-election deals http://...   \n",
       "1  593891101313896449  lolz to trickle down wealth. it's never trickl...   \n",
       "2  593891101766918144  snp leader faces audience questions http://t.c...   \n",
       "3  593891102480007169  if miliband is refusing to do any deal with th...   \n",
       "4  593891103184551936  cameron wins last tv contest of election campa...   \n",
       "\n",
       "  user.favourites_count     user.id lang user.followers_count user.verified  \\\n",
       "0                     0   557422508   en                  184         False   \n",
       "1                  2677  2471552766   en                  966         False   \n",
       "2                     0   557422508   en                  184         False   \n",
       "3                   492   390331913   en                  174         False   \n",
       "4                     4  2724103423   en                  102         False   \n",
       "\n",
       "  truncated  \n",
       "0     False  \n",
       "1     False  \n",
       "2     False  \n",
       "3     False  \n",
       "4     False  "
      ]
     },
     "execution_count": 13,
     "metadata": {},
     "output_type": "execute_result"
    }
   ],
   "source": [
    "df.head()"
   ]
  },
  {
   "cell_type": "code",
   "execution_count": 19,
   "metadata": {
    "collapsed": false
   },
   "outputs": [],
   "source": [
    "# remove urls\n",
    "# regex: http\\S+\n",
    "for i in xrange(rows):\n",
    "    tweet=str(df.loc[i]['text'])\n",
    "    remove=reg.compile(r'http\\S+')\n",
    "    remove_words=remove.findall(tweet)\n",
    "    new_tweet=\"\"\n",
    "    for word in tweet.split():\n",
    "        if word not in remove_words:\n",
    "            new_tweet+=word+' '\n",
    "    df.replace(df.loc[i]['text'], new_tweet, inplace=True)"
   ]
  },
  {
   "cell_type": "code",
   "execution_count": 20,
   "metadata": {
    "collapsed": false
   },
   "outputs": [
    {
     "data": {
      "text/html": [
       "<div>\n",
       "<table border=\"1\" class=\"dataframe\">\n",
       "  <thead>\n",
       "    <tr style=\"text-align: right;\">\n",
       "      <th></th>\n",
       "      <th>id</th>\n",
       "      <th>text</th>\n",
       "      <th>user.favourites_count</th>\n",
       "      <th>user.id</th>\n",
       "      <th>lang</th>\n",
       "      <th>user.followers_count</th>\n",
       "      <th>user.verified</th>\n",
       "      <th>truncated</th>\n",
       "    </tr>\n",
       "  </thead>\n",
       "  <tbody>\n",
       "    <tr>\n",
       "      <th>0</th>\n",
       "      <td>593891099548094465</td>\n",
       "      <td>video: sturgeon on post-election deals</td>\n",
       "      <td>0</td>\n",
       "      <td>557422508</td>\n",
       "      <td>en</td>\n",
       "      <td>184</td>\n",
       "      <td>False</td>\n",
       "      <td>False</td>\n",
       "    </tr>\n",
       "    <tr>\n",
       "      <th>1</th>\n",
       "      <td>593891101313896449</td>\n",
       "      <td>lolz to trickle down wealth. it's never trickl...</td>\n",
       "      <td>2677</td>\n",
       "      <td>2471552766</td>\n",
       "      <td>en</td>\n",
       "      <td>966</td>\n",
       "      <td>False</td>\n",
       "      <td>False</td>\n",
       "    </tr>\n",
       "    <tr>\n",
       "      <th>2</th>\n",
       "      <td>593891101766918144</td>\n",
       "      <td>snp leader faces audience questions</td>\n",
       "      <td>0</td>\n",
       "      <td>557422508</td>\n",
       "      <td>en</td>\n",
       "      <td>184</td>\n",
       "      <td>False</td>\n",
       "      <td>False</td>\n",
       "    </tr>\n",
       "    <tr>\n",
       "      <th>3</th>\n",
       "      <td>593891102480007169</td>\n",
       "      <td>if miliband is refusing to do any deal with th...</td>\n",
       "      <td>492</td>\n",
       "      <td>390331913</td>\n",
       "      <td>en</td>\n",
       "      <td>174</td>\n",
       "      <td>False</td>\n",
       "      <td>False</td>\n",
       "    </tr>\n",
       "    <tr>\n",
       "      <th>4</th>\n",
       "      <td>593891103184551936</td>\n",
       "      <td>cameron wins last tv contest of election campa...</td>\n",
       "      <td>4</td>\n",
       "      <td>2724103423</td>\n",
       "      <td>en</td>\n",
       "      <td>102</td>\n",
       "      <td>False</td>\n",
       "      <td>False</td>\n",
       "    </tr>\n",
       "  </tbody>\n",
       "</table>\n",
       "</div>"
      ],
      "text/plain": [
       "                   id                                               text  \\\n",
       "0  593891099548094465            video: sturgeon on post-election deals    \n",
       "1  593891101313896449  lolz to trickle down wealth. it's never trickl...   \n",
       "2  593891101766918144               snp leader faces audience questions    \n",
       "3  593891102480007169  if miliband is refusing to do any deal with th...   \n",
       "4  593891103184551936  cameron wins last tv contest of election campa...   \n",
       "\n",
       "  user.favourites_count     user.id lang user.followers_count user.verified  \\\n",
       "0                     0   557422508   en                  184         False   \n",
       "1                  2677  2471552766   en                  966         False   \n",
       "2                     0   557422508   en                  184         False   \n",
       "3                   492   390331913   en                  174         False   \n",
       "4                     4  2724103423   en                  102         False   \n",
       "\n",
       "  truncated  \n",
       "0     False  \n",
       "1     False  \n",
       "2     False  \n",
       "3     False  \n",
       "4     False  "
      ]
     },
     "execution_count": 20,
     "metadata": {},
     "output_type": "execute_result"
    }
   ],
   "source": [
    "df.head()"
   ]
  },
  {
   "cell_type": "code",
   "execution_count": 21,
   "metadata": {
    "collapsed": true
   },
   "outputs": [],
   "source": [
    "df.to_csv('tweets_dataframe.csv', sep=\"\\t\")"
   ]
  }
 ],
 "metadata": {
  "kernelspec": {
   "display_name": "Python 2",
   "language": "python",
   "name": "python2"
  }
 },
 "nbformat": 4,
 "nbformat_minor": 2
}
